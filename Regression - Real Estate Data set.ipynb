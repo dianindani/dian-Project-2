{
 "cells": [
  {
   "cell_type": "markdown",
   "metadata": {},
   "source": [
    "\n",
    "# Real Estate"
   ]
  },
  {
   "cell_type": "markdown",
   "metadata": {},
   "source": [
    "### About Data\n",
    "#### Y house price of unit area\n",
    "#### X6 longitude\n",
    "#### X5 latitude\n",
    "#### X4 number of convenience stores\n",
    "#### X3 distance to the nearest MRT station\n",
    "#### X2 house age\n",
    "#### X1 transaction date"
   ]
  },
  {
   "cell_type": "code",
   "execution_count": 1,
   "metadata": {},
   "outputs": [
    {
     "data": {
      "text/html": [
       "        <script type=\"text/javascript\">\n",
       "        window.PlotlyConfig = {MathJaxConfig: 'local'};\n",
       "        if (window.MathJax) {MathJax.Hub.Config({SVG: {font: \"STIX-Web\"}});}\n",
       "        if (typeof require !== 'undefined') {\n",
       "        require.undef(\"plotly\");\n",
       "        requirejs.config({\n",
       "            paths: {\n",
       "                'plotly': ['https://cdn.plot.ly/plotly-latest.min']\n",
       "            }\n",
       "        });\n",
       "        require(['plotly'], function(Plotly) {\n",
       "            window._Plotly = Plotly;\n",
       "        });\n",
       "        }\n",
       "        </script>\n",
       "        "
      ]
     },
     "metadata": {},
     "output_type": "display_data"
    }
   ],
   "source": [
    "import pandas as pd\n",
    "import numpy as np\n",
    "import matplotlib.pyplot as plt\n",
    "import seaborn as sns\n",
    "import plotly as py\n",
    "import plotly.express as px\n",
    "import plotly.graph_objs as go\n",
    "from plotly.subplots import make_subplots\n",
    "from plotly.offline import download_plotlyjs, init_notebook_mode, plot, iplot\n",
    "from wordcloud import WordCloud\n",
    "\n",
    "init_notebook_mode(connected=True) \n",
    "\n",
    "import warnings\n",
    "warnings.filterwarnings('ignore')"
   ]
  },
  {
   "cell_type": "markdown",
   "metadata": {},
   "source": [
    "### Reading and Vizualitation Data"
   ]
  },
  {
   "cell_type": "code",
   "execution_count": 2,
   "metadata": {},
   "outputs": [],
   "source": [
    "df_realestate=pd.read_excel('realestate.xlsx')"
   ]
  },
  {
   "cell_type": "code",
   "execution_count": 3,
   "metadata": {},
   "outputs": [
    {
     "name": "stdout",
     "output_type": "stream",
     "text": [
      "<class 'pandas.core.frame.DataFrame'>\n",
      "RangeIndex: 414 entries, 0 to 413\n",
      "Data columns (total 7 columns):\n",
      "X1    414 non-null float64\n",
      "X2    414 non-null float64\n",
      "X3    414 non-null float64\n",
      "X4    414 non-null int64\n",
      "X5    414 non-null float64\n",
      "X6    414 non-null float64\n",
      "Y     414 non-null float64\n",
      "dtypes: float64(6), int64(1)\n",
      "memory usage: 22.8 KB\n"
     ]
    }
   ],
   "source": [
    "df_realestate.info()"
   ]
  },
  {
   "cell_type": "code",
   "execution_count": 4,
   "metadata": {},
   "outputs": [
    {
     "data": {
      "text/html": [
       "<div>\n",
       "<style scoped>\n",
       "    .dataframe tbody tr th:only-of-type {\n",
       "        vertical-align: middle;\n",
       "    }\n",
       "\n",
       "    .dataframe tbody tr th {\n",
       "        vertical-align: top;\n",
       "    }\n",
       "\n",
       "    .dataframe thead th {\n",
       "        text-align: right;\n",
       "    }\n",
       "</style>\n",
       "<table border=\"1\" class=\"dataframe\">\n",
       "  <thead>\n",
       "    <tr style=\"text-align: right;\">\n",
       "      <th></th>\n",
       "      <th>X1</th>\n",
       "      <th>X2</th>\n",
       "      <th>X3</th>\n",
       "      <th>X4</th>\n",
       "      <th>X5</th>\n",
       "      <th>X6</th>\n",
       "      <th>Y</th>\n",
       "    </tr>\n",
       "  </thead>\n",
       "  <tbody>\n",
       "    <tr>\n",
       "      <th>0</th>\n",
       "      <td>2012.916667</td>\n",
       "      <td>32.0</td>\n",
       "      <td>84.87882</td>\n",
       "      <td>10</td>\n",
       "      <td>24.98298</td>\n",
       "      <td>121.54024</td>\n",
       "      <td>37.9</td>\n",
       "    </tr>\n",
       "    <tr>\n",
       "      <th>1</th>\n",
       "      <td>2012.916667</td>\n",
       "      <td>19.5</td>\n",
       "      <td>306.59470</td>\n",
       "      <td>9</td>\n",
       "      <td>24.98034</td>\n",
       "      <td>121.53951</td>\n",
       "      <td>42.2</td>\n",
       "    </tr>\n",
       "    <tr>\n",
       "      <th>2</th>\n",
       "      <td>2013.583333</td>\n",
       "      <td>13.3</td>\n",
       "      <td>561.98450</td>\n",
       "      <td>5</td>\n",
       "      <td>24.98746</td>\n",
       "      <td>121.54391</td>\n",
       "      <td>47.3</td>\n",
       "    </tr>\n",
       "    <tr>\n",
       "      <th>3</th>\n",
       "      <td>2013.500000</td>\n",
       "      <td>13.3</td>\n",
       "      <td>561.98450</td>\n",
       "      <td>5</td>\n",
       "      <td>24.98746</td>\n",
       "      <td>121.54391</td>\n",
       "      <td>54.8</td>\n",
       "    </tr>\n",
       "    <tr>\n",
       "      <th>4</th>\n",
       "      <td>2012.833333</td>\n",
       "      <td>5.0</td>\n",
       "      <td>390.56840</td>\n",
       "      <td>5</td>\n",
       "      <td>24.97937</td>\n",
       "      <td>121.54245</td>\n",
       "      <td>43.1</td>\n",
       "    </tr>\n",
       "  </tbody>\n",
       "</table>\n",
       "</div>"
      ],
      "text/plain": [
       "            X1    X2         X3  X4        X5         X6     Y\n",
       "0  2012.916667  32.0   84.87882  10  24.98298  121.54024  37.9\n",
       "1  2012.916667  19.5  306.59470   9  24.98034  121.53951  42.2\n",
       "2  2013.583333  13.3  561.98450   5  24.98746  121.54391  47.3\n",
       "3  2013.500000  13.3  561.98450   5  24.98746  121.54391  54.8\n",
       "4  2012.833333   5.0  390.56840   5  24.97937  121.54245  43.1"
      ]
     },
     "execution_count": 4,
     "metadata": {},
     "output_type": "execute_result"
    }
   ],
   "source": [
    "df_realestate.head()"
   ]
  },
  {
   "cell_type": "code",
   "execution_count": 5,
   "metadata": {},
   "outputs": [
    {
     "name": "stdout",
     "output_type": "stream",
     "text": [
      " Total Row Number: 414 \n",
      " Total Col Number: 7\n"
     ]
    }
   ],
   "source": [
    "print(\" Total Row Number: {0} \\n Total Col Number: {1}\".format(df_realestate.shape[0], df_realestate.shape[1]))"
   ]
  },
  {
   "cell_type": "markdown",
   "metadata": {},
   "source": [
    " -----------  Summary Statistic  ---------"
   ]
  },
  {
   "cell_type": "code",
   "execution_count": 7,
   "metadata": {
    "scrolled": true
   },
   "outputs": [
    {
     "data": {
      "text/html": [
       "<div>\n",
       "<style scoped>\n",
       "    .dataframe tbody tr th:only-of-type {\n",
       "        vertical-align: middle;\n",
       "    }\n",
       "\n",
       "    .dataframe tbody tr th {\n",
       "        vertical-align: top;\n",
       "    }\n",
       "\n",
       "    .dataframe thead th {\n",
       "        text-align: right;\n",
       "    }\n",
       "</style>\n",
       "<table border=\"1\" class=\"dataframe\">\n",
       "  <thead>\n",
       "    <tr style=\"text-align: right;\">\n",
       "      <th></th>\n",
       "      <th>count</th>\n",
       "      <th>mean</th>\n",
       "      <th>std</th>\n",
       "      <th>min</th>\n",
       "      <th>25%</th>\n",
       "      <th>50%</th>\n",
       "      <th>75%</th>\n",
       "      <th>max</th>\n",
       "    </tr>\n",
       "  </thead>\n",
       "  <tbody>\n",
       "    <tr>\n",
       "      <th>X1</th>\n",
       "      <td>414.0</td>\n",
       "      <td>2013.148953</td>\n",
       "      <td>0.281995</td>\n",
       "      <td>2012.666667</td>\n",
       "      <td>2012.916667</td>\n",
       "      <td>2013.166667</td>\n",
       "      <td>2013.416667</td>\n",
       "      <td>2013.583333</td>\n",
       "    </tr>\n",
       "    <tr>\n",
       "      <th>X2</th>\n",
       "      <td>414.0</td>\n",
       "      <td>17.712560</td>\n",
       "      <td>11.392485</td>\n",
       "      <td>0.000000</td>\n",
       "      <td>9.025000</td>\n",
       "      <td>16.100000</td>\n",
       "      <td>28.150000</td>\n",
       "      <td>43.800000</td>\n",
       "    </tr>\n",
       "    <tr>\n",
       "      <th>X3</th>\n",
       "      <td>414.0</td>\n",
       "      <td>1083.885689</td>\n",
       "      <td>1262.109595</td>\n",
       "      <td>23.382840</td>\n",
       "      <td>289.324800</td>\n",
       "      <td>492.231300</td>\n",
       "      <td>1454.279000</td>\n",
       "      <td>6488.021000</td>\n",
       "    </tr>\n",
       "    <tr>\n",
       "      <th>X4</th>\n",
       "      <td>414.0</td>\n",
       "      <td>4.094203</td>\n",
       "      <td>2.945562</td>\n",
       "      <td>0.000000</td>\n",
       "      <td>1.000000</td>\n",
       "      <td>4.000000</td>\n",
       "      <td>6.000000</td>\n",
       "      <td>10.000000</td>\n",
       "    </tr>\n",
       "    <tr>\n",
       "      <th>X5</th>\n",
       "      <td>414.0</td>\n",
       "      <td>24.969030</td>\n",
       "      <td>0.012410</td>\n",
       "      <td>24.932070</td>\n",
       "      <td>24.963000</td>\n",
       "      <td>24.971100</td>\n",
       "      <td>24.977455</td>\n",
       "      <td>25.014590</td>\n",
       "    </tr>\n",
       "    <tr>\n",
       "      <th>X6</th>\n",
       "      <td>414.0</td>\n",
       "      <td>121.533361</td>\n",
       "      <td>0.015347</td>\n",
       "      <td>121.473530</td>\n",
       "      <td>121.528085</td>\n",
       "      <td>121.538630</td>\n",
       "      <td>121.543305</td>\n",
       "      <td>121.566270</td>\n",
       "    </tr>\n",
       "    <tr>\n",
       "      <th>Y</th>\n",
       "      <td>414.0</td>\n",
       "      <td>37.980193</td>\n",
       "      <td>13.606488</td>\n",
       "      <td>7.600000</td>\n",
       "      <td>27.700000</td>\n",
       "      <td>38.450000</td>\n",
       "      <td>46.600000</td>\n",
       "      <td>117.500000</td>\n",
       "    </tr>\n",
       "  </tbody>\n",
       "</table>\n",
       "</div>"
      ],
      "text/plain": [
       "    count         mean          std          min          25%          50%  \\\n",
       "X1  414.0  2013.148953     0.281995  2012.666667  2012.916667  2013.166667   \n",
       "X2  414.0    17.712560    11.392485     0.000000     9.025000    16.100000   \n",
       "X3  414.0  1083.885689  1262.109595    23.382840   289.324800   492.231300   \n",
       "X4  414.0     4.094203     2.945562     0.000000     1.000000     4.000000   \n",
       "X5  414.0    24.969030     0.012410    24.932070    24.963000    24.971100   \n",
       "X6  414.0   121.533361     0.015347   121.473530   121.528085   121.538630   \n",
       "Y   414.0    37.980193    13.606488     7.600000    27.700000    38.450000   \n",
       "\n",
       "            75%          max  \n",
       "X1  2013.416667  2013.583333  \n",
       "X2    28.150000    43.800000  \n",
       "X3  1454.279000  6488.021000  \n",
       "X4     6.000000    10.000000  \n",
       "X5    24.977455    25.014590  \n",
       "X6   121.543305   121.566270  \n",
       "Y     46.600000   117.500000  "
      ]
     },
     "execution_count": 7,
     "metadata": {},
     "output_type": "execute_result"
    }
   ],
   "source": [
    "df_realestate.describe().T"
   ]
  },
  {
   "cell_type": "code",
   "execution_count": 8,
   "metadata": {},
   "outputs": [
    {
     "data": {
      "text/html": [
       "<div>\n",
       "<style scoped>\n",
       "    .dataframe tbody tr th:only-of-type {\n",
       "        vertical-align: middle;\n",
       "    }\n",
       "\n",
       "    .dataframe tbody tr th {\n",
       "        vertical-align: top;\n",
       "    }\n",
       "\n",
       "    .dataframe thead th {\n",
       "        text-align: right;\n",
       "    }\n",
       "</style>\n",
       "<table border=\"1\" class=\"dataframe\">\n",
       "  <thead>\n",
       "    <tr style=\"text-align: right;\">\n",
       "      <th></th>\n",
       "      <th>X2</th>\n",
       "      <th>X3</th>\n",
       "      <th>X4</th>\n",
       "      <th>X5</th>\n",
       "      <th>X6</th>\n",
       "      <th>Y</th>\n",
       "    </tr>\n",
       "  </thead>\n",
       "  <tbody>\n",
       "    <tr>\n",
       "      <th>0</th>\n",
       "      <td>32.0</td>\n",
       "      <td>84.87882</td>\n",
       "      <td>10</td>\n",
       "      <td>24.98298</td>\n",
       "      <td>121.54024</td>\n",
       "      <td>37.9</td>\n",
       "    </tr>\n",
       "    <tr>\n",
       "      <th>1</th>\n",
       "      <td>19.5</td>\n",
       "      <td>306.59470</td>\n",
       "      <td>9</td>\n",
       "      <td>24.98034</td>\n",
       "      <td>121.53951</td>\n",
       "      <td>42.2</td>\n",
       "    </tr>\n",
       "    <tr>\n",
       "      <th>2</th>\n",
       "      <td>13.3</td>\n",
       "      <td>561.98450</td>\n",
       "      <td>5</td>\n",
       "      <td>24.98746</td>\n",
       "      <td>121.54391</td>\n",
       "      <td>47.3</td>\n",
       "    </tr>\n",
       "    <tr>\n",
       "      <th>3</th>\n",
       "      <td>13.3</td>\n",
       "      <td>561.98450</td>\n",
       "      <td>5</td>\n",
       "      <td>24.98746</td>\n",
       "      <td>121.54391</td>\n",
       "      <td>54.8</td>\n",
       "    </tr>\n",
       "    <tr>\n",
       "      <th>4</th>\n",
       "      <td>5.0</td>\n",
       "      <td>390.56840</td>\n",
       "      <td>5</td>\n",
       "      <td>24.97937</td>\n",
       "      <td>121.54245</td>\n",
       "      <td>43.1</td>\n",
       "    </tr>\n",
       "  </tbody>\n",
       "</table>\n",
       "</div>"
      ],
      "text/plain": [
       "     X2         X3  X4        X5         X6     Y\n",
       "0  32.0   84.87882  10  24.98298  121.54024  37.9\n",
       "1  19.5  306.59470   9  24.98034  121.53951  42.2\n",
       "2  13.3  561.98450   5  24.98746  121.54391  47.3\n",
       "3  13.3  561.98450   5  24.98746  121.54391  54.8\n",
       "4   5.0  390.56840   5  24.97937  121.54245  43.1"
      ]
     },
     "execution_count": 8,
     "metadata": {},
     "output_type": "execute_result"
    }
   ],
   "source": [
    "cdf=df_realestate[['X2','X3','X4','X5','X6','Y']]\n",
    "cdf.head()"
   ]
  },
  {
   "cell_type": "markdown",
   "metadata": {},
   "source": [
    "#### Plot data untuk melihat linear tidaknya variabel \n",
    "---------------------Y versus X2,X3,X4,X5 dan X6-----------------------------------"
   ]
  },
  {
   "cell_type": "code",
   "execution_count": 9,
   "metadata": {},
   "outputs": [
    {
     "data": {
      "image/png": "[encoded data removed]",
      "text/plain": [
       "<Figure size 432x288 with 1 Axes>"
      ]
     },
     "metadata": {
      "needs_background": "light"
     },
     "output_type": "display_data"
    }
   ],
   "source": [
    "plt.scatter(cdf.X2, cdf.Y,  color='red')\n",
    "plt.xlabel(\"House Age\")\n",
    "plt.ylabel(\"House Price\")\n",
    "plt.show()"
   ]
  },
  {
   "cell_type": "markdown",
   "metadata": {},
   "source": [
    "Dapat dilihat bahwa usia rumah tidak berkorelasi dengan harga rumah"
   ]
  },
  {
   "cell_type": "code",
   "execution_count": 10,
   "metadata": {},
   "outputs": [
    {
     "data": {
      "image/png": "[encoded data removed]",
      "text/plain": [
       "<Figure size 432x288 with 1 Axes>"
      ]
     },
     "metadata": {
      "needs_background": "light"
     },
     "output_type": "display_data"
    }
   ],
   "source": [
    "plt.scatter(cdf.X3, cdf.Y,  color='yellow')\n",
    "plt.xlabel(\"Distance to the nearest MRT\")\n",
    "plt.ylabel(\"House Price\")\n",
    "plt.show()"
   ]
  },
  {
   "cell_type": "markdown",
   "metadata": {},
   "source": [
    "Adanya indikasi bahwa adanya hubungan/korelasi antara jarak terdekat MRT dengan harga rumah"
   ]
  },
  {
   "cell_type": "code",
   "execution_count": 11,
   "metadata": {},
   "outputs": [
    {
     "data": {
      "image/png": "[encoded data removed]",
      "text/plain": [
       "<Figure size 432x288 with 1 Axes>"
      ]
     },
     "metadata": {
      "needs_background": "light"
     },
     "output_type": "display_data"
    }
   ],
   "source": [
    "plt.scatter(cdf.X4, cdf.Y,  color='green')\n",
    "plt.xlabel(\"Number of Convinience store\")\n",
    "plt.ylabel(\"House Price\")\n",
    "plt.show()"
   ]
  },
  {
   "cell_type": "markdown",
   "metadata": {},
   "source": [
    "Dapat dilihat bahwa tidak adanya korelasi antara banyaknya toko dengan harga rumah"
   ]
  },
  {
   "cell_type": "code",
   "execution_count": 12,
   "metadata": {},
   "outputs": [
    {
     "data": {
      "image/png": "[encoded data removed]",
      "text/plain": [
       "<Figure size 432x288 with 1 Axes>"
      ]
     },
     "metadata": {
      "needs_background": "light"
     },
     "output_type": "display_data"
    }
   ],
   "source": [
    "plt.scatter(cdf.X5, cdf.Y,  color='blue')\n",
    "plt.xlabel(\"Latitude\")\n",
    "plt.ylabel(\"House Price\")\n",
    "plt.show()"
   ]
  },
  {
   "cell_type": "markdown",
   "metadata": {},
   "source": [
    "Dapat dilihat bahwa adanya korelasi antara garis lintang dengan harga rumah"
   ]
  },
  {
   "cell_type": "code",
   "execution_count": 13,
   "metadata": {},
   "outputs": [
    {
     "data": {
      "image/png": "[encoded data removed]",
      "text/plain": [
       "<Figure size 432x288 with 1 Axes>"
      ]
     },
     "metadata": {
      "needs_background": "light"
     },
     "output_type": "display_data"
    }
   ],
   "source": [
    "plt.scatter(cdf.X6, cdf.Y,  color='purple')\n",
    "plt.xlabel(\"Longitude\")\n",
    "plt.ylabel(\"House Price\")\n",
    "plt.show()"
   ]
  },
  {
   "cell_type": "markdown",
   "metadata": {},
   "source": [
    "Dapat dilihat bahwa adanya korelasi antara garis bujur dengan harga rumah"
   ]
  },
  {
   "cell_type": "code",
   "execution_count": 15,
   "metadata": {},
   "outputs": [
    {
     "data": {
      "text/plain": [
       "Text(0, 0.5, 'House Price')"
      ]
     },
     "execution_count": 15,
     "metadata": {},
     "output_type": "execute_result"
    },
    {
     "data": {
      "image/png": "[encoded data removed]",
      "text/plain": [
       "<Figure size 720x504 with 1 Axes>"
      ]
     },
     "metadata": {},
     "output_type": "display_data"
    }
   ],
   "source": [
    "#karena garis lintang dan bujur merupakan variabel kontinu maka kita juga dapat melihat visualisasi \n",
    "#garis lintang dan bujur dengan menggunakan Histogram\n",
    "\n",
    "plt.style.use('ggplot')\n",
    "# Histogram of the latitude\n",
    "cdf.X5.plot(kind='hist',color='brown',edgecolor='black',figsize=(10,7))\n",
    "plt.xlabel('Latitude', size=18)\n",
    "plt.ylabel('House Price', size=18)"
   ]
  },
  {
   "cell_type": "code",
   "execution_count": 16,
   "metadata": {},
   "outputs": [
    {
     "data": {
      "text/plain": [
       "Text(0, 0.5, 'House Price')"
      ]
     },
     "execution_count": 16,
     "metadata": {},
     "output_type": "execute_result"
    },
    {
     "data": {
      "image/png": "[encoded data removed]",
      "text/plain": [
       "<Figure size 720x504 with 1 Axes>"
      ]
     },
     "metadata": {},
     "output_type": "display_data"
    }
   ],
   "source": [
    "plt.style.use('ggplot')\n",
    "# Histogram of the longitude\n",
    "cdf.X6.plot(kind='hist',color='brown',edgecolor='black',figsize=(10,7))\n",
    "plt.xlabel('Longitude', size=18)\n",
    "plt.ylabel('House Price', size=18)"
   ]
  },
  {
   "cell_type": "code",
   "execution_count": 24,
   "metadata": {},
   "outputs": [],
   "source": [
    "#Visualisasi korelasi untuk semua variabel X terhadap variabel Y kita juga dapat melihatnya melalui Headmap"
   ]
  },
  {
   "cell_type": "code",
   "execution_count": 18,
   "metadata": {},
   "outputs": [
    {
     "data": {
      "text/plain": [
       "<matplotlib.axes._subplots.AxesSubplot at 0x1a7f3488a58>"
      ]
     },
     "execution_count": 18,
     "metadata": {},
     "output_type": "execute_result"
    },
    {
     "data": {
      "image/png": "[encoded data removed]",
      "text/plain": [
       "<Figure size 864x864 with 2 Axes>"
      ]
     },
     "metadata": {},
     "output_type": "display_data"
    }
   ],
   "source": [
    "plt.figure(figsize=(12,12))\n",
    "sns.heatmap(cdf.corr(),cmap='RdBu_r')"
   ]
  },
  {
   "cell_type": "markdown",
   "metadata": {},
   "source": [
    "Dapat dilihat bahwa adanya korelasi yang cukup kuat (positif) ditunjukkan oleh variabel X4 lalu selanjutnya X5,X6 \n",
    "\n",
    "dan korelasi yang cukup kuat (negatif) X3 dengan X6,X3,X4 dst. Untuk lebih jelas mengenai nilai korelasinya dapat dilihat pada gambar dibawah ini"
   ]
  },
  {
   "cell_type": "code",
   "execution_count": 19,
   "metadata": {},
   "outputs": [
    {
     "data": {
      "text/plain": [
       "<matplotlib.axes._subplots.AxesSubplot at 0x1a7f3525588>"
      ]
     },
     "execution_count": 19,
     "metadata": {},
     "output_type": "execute_result"
    },
    {
     "data": {
      "image/png": "[encoded data removed]",
      "text/plain": [
       "<Figure size 1440x360 with 2 Axes>"
      ]
     },
     "metadata": {},
     "output_type": "display_data"
    }
   ],
   "source": [
    "plt.figure(figsize=(20,5))\n",
    "mask = np.zeros_like(cdf.corr(), dtype=np.bool)\n",
    "mask[np.triu_indices_from(mask)] = True\n",
    "sns.heatmap(cdf.corr(),cmap='RdBu_r',mask=mask, annot=True)"
   ]
  },
  {
   "cell_type": "code",
   "execution_count": null,
   "metadata": {},
   "outputs": [],
   "source": [
    "##### selanjutnya kita bisa melakukan Train dan Test data yang memiliki korelasi"
   ]
  },
  {
   "cell_type": "code",
   "execution_count": 20,
   "metadata": {},
   "outputs": [],
   "source": [
    "msk = np.random.rand(len(df_realestate)) < 0.8\n",
    "train = cdf[msk]\n",
    "test = cdf[~msk]"
   ]
  },
  {
   "cell_type": "code",
   "execution_count": 25,
   "metadata": {},
   "outputs": [
    {
     "data": {
      "image/png": "[encoded data removed]",
      "text/plain": [
       "<Figure size 432x288 with 1 Axes>"
      ]
     },
     "metadata": {},
     "output_type": "display_data"
    },
    {
     "data": {
      "image/png": "[encoded data removed]",
      "text/plain": [
       "<Figure size 432x288 with 1 Axes>"
      ]
     },
     "metadata": {},
     "output_type": "display_data"
    }
   ],
   "source": [
    "#Setelah sebelumnya kita melihat scatter plot untuk semua variabel dan Histogram untuk X5 dan X6 , hasilnya menunjukkan bahwa \n",
    "# (lanjutan) bahwa variabel X3,X5 dan X6 berkorelasi cukup baik dengan variabel Y , selanjutnya kita lakukan train dan test \n",
    "# (lanjutan2) untuk variabel X3,X5 dan X6\n",
    "plt.scatter(train.X5, train.Y,  color='blue')\n",
    "plt.xlabel(\"Latitude\")\n",
    "plt.ylabel(\"House Price\")\n",
    "plt.show()\n",
    "\n",
    "plt.scatter(train.X6, train.Y,  color='purple')\n",
    "plt.xlabel(\"Longitude\")\n",
    "plt.ylabel(\"House Price\")\n",
    "plt.show()"
   ]
  },
  {
   "cell_type": "code",
   "execution_count": 22,
   "metadata": {},
   "outputs": [
    {
     "name": "stdout",
     "output_type": "stream",
     "text": [
      "Coefficients:  [[616.76939873]]\n",
      "Intercept:  [-15362.18060906]\n"
     ]
    }
   ],
   "source": [
    "from sklearn import linear_model\n",
    "regr = linear_model.LinearRegression()\n",
    "train_x = np.asanyarray(train[['X5']])\n",
    "train_y = np.asanyarray(train[['Y']])\n",
    "regr.fit (train_x, train_y)\n",
    "# The coefficients\n",
    "print ('Coefficients: ', regr.coef_)\n",
    "print ('Intercept: ',regr.intercept_)\n",
    "\n"
   ]
  },
  {
   "cell_type": "markdown",
   "metadata": {},
   "source": [
    "dapat dilihat untuk nilai koefisien untuk variabel X5 adalah 616.76"
   ]
  },
  {
   "cell_type": "code",
   "execution_count": 23,
   "metadata": {},
   "outputs": [
    {
     "name": "stdout",
     "output_type": "stream",
     "text": [
      "Mean absolute error: 8.83\n",
      "Residual sum of squares (MSE): 132.54\n"
     ]
    }
   ],
   "source": [
    "# MAE dan MSE variabel yang berkorelasi\n",
    "test_x = np.asanyarray(test[['X5']])\n",
    "test_y = np.asanyarray(test[['Y']])\n",
    "test_y_ = regr.predict(test_x)\n",
    "\n",
    "print(\"Mean absolute error: %.2f\" % np.mean(np.absolute(test_y_ - test_y)))\n",
    "print(\"Residual sum of squares (MSE): %.2f\" % np.mean((test_y_ - test_y) ** 2))\n"
   ]
  },
  {
   "cell_type": "markdown",
   "metadata": {},
   "source": [
    "Untuk data X3"
   ]
  },
  {
   "cell_type": "code",
   "execution_count": 26,
   "metadata": {},
   "outputs": [
    {
     "data": {
      "image/png": "[encoded data removed]",
      "text/plain": [
       "<Figure size 432x288 with 1 Axes>"
      ]
     },
     "metadata": {},
     "output_type": "display_data"
    }
   ],
   "source": [
    "plt.scatter(train.X3, train.Y,  color='yellow')\n",
    "plt.xlabel(\"X3\")\n",
    "plt.ylabel(\"House Price\")\n",
    "plt.show()"
   ]
  },
  {
   "cell_type": "code",
   "execution_count": 27,
   "metadata": {},
   "outputs": [
    {
     "name": "stdout",
     "output_type": "stream",
     "text": [
      "Coefficients:  [[-0.00744581]]\n",
      "Intercept:  [46.31331855]\n"
     ]
    }
   ],
   "source": [
    "from sklearn import linear_model\n",
    "regr = linear_model.LinearRegression()\n",
    "train_x = np.asanyarray(train[['X3']])\n",
    "train_y = np.asanyarray(train[['Y']])\n",
    "regr.fit (train_x, train_y)\n",
    "# The coefficients\n",
    "print ('Coefficients: ', regr.coef_)\n",
    "print ('Intercept: ',regr.intercept_)"
   ]
  },
  {
   "cell_type": "code",
   "execution_count": 28,
   "metadata": {},
   "outputs": [
    {
     "name": "stdout",
     "output_type": "stream",
     "text": [
      "Mean absolute error: 7.70\n",
      "Residual sum of squares (MSE): 101.12\n"
     ]
    }
   ],
   "source": [
    "test_x = np.asanyarray(test[['X3']])\n",
    "test_y = np.asanyarray(test[['Y']])\n",
    "test_y_ = regr.predict(test_x)\n",
    "\n",
    "print(\"Mean absolute error: %.2f\" % np.mean(np.absolute(test_y_ - test_y)))\n",
    "print(\"Residual sum of squares (MSE): %.2f\" % np.mean((test_y_ - test_y) ** 2))\n"
   ]
  },
  {
   "cell_type": "markdown",
   "metadata": {},
   "source": [
    "#### Model Regression"
   ]
  },
  {
   "cell_type": "code",
   "execution_count": 29,
   "metadata": {},
   "outputs": [],
   "source": [
    "import pandas as pd"
   ]
  },
  {
   "cell_type": "code",
   "execution_count": 30,
   "metadata": {},
   "outputs": [],
   "source": [
    "cdf1=pd.DataFrame(df_realestate, columns= ['X1','X2','X3','X4','X5','X6','Y'])\n",
    "Xb=cdf1.drop(['X1','Y'],axis=1)\n",
    "Yb=cdf1['Y']"
   ]
  },
  {
   "cell_type": "markdown",
   "metadata": {},
   "source": [
    "------- Kemudian kita Train dan Test data ( 80% Train set and 20% Test set) --------------"
   ]
  },
  {
   "cell_type": "code",
   "execution_count": 31,
   "metadata": {},
   "outputs": [],
   "source": [
    "from sklearn.model_selection import train_test_split"
   ]
  },
  {
   "cell_type": "code",
   "execution_count": 32,
   "metadata": {},
   "outputs": [],
   "source": [
    "Xb_train, Xb_test, Yb_train, Yb_test=train_test_split(Xb,Yb)\n",
    "from sklearn.linear_model import LinearRegression"
   ]
  },
  {
   "cell_type": "code",
   "execution_count": 35,
   "metadata": {},
   "outputs": [
    {
     "data": {
      "image/png": "[encoded data removed]",
      "text/plain": [
       "<Figure size 432x288 with 1 Axes>"
      ]
     },
     "metadata": {},
     "output_type": "display_data"
    }
   ],
   "source": [
    "lm=LinearRegression()\n",
    "lm.fit(Xb_train,Yb_train)\n",
    "Ytopi=lm.predict(Xb_test)\n",
    "plt.scatter(Yb_test,Ytopi, color ='green')\n",
    "plt.show()"
   ]
  },
  {
   "cell_type": "markdown",
   "metadata": {},
   "source": [
    "------------------------- Untuk melihat koefisien regresi -----------------------------"
   ]
  },
  {
   "cell_type": "code",
   "execution_count": 36,
   "metadata": {},
   "outputs": [],
   "source": [
    "from sklearn import metrics"
   ]
  },
  {
   "cell_type": "code",
   "execution_count": 37,
   "metadata": {},
   "outputs": [
    {
     "data": {
      "text/html": [
       "<div>\n",
       "<style scoped>\n",
       "    .dataframe tbody tr th:only-of-type {\n",
       "        vertical-align: middle;\n",
       "    }\n",
       "\n",
       "    .dataframe tbody tr th {\n",
       "        vertical-align: top;\n",
       "    }\n",
       "\n",
       "    .dataframe thead th {\n",
       "        text-align: right;\n",
       "    }\n",
       "</style>\n",
       "<table border=\"1\" class=\"dataframe\">\n",
       "  <thead>\n",
       "    <tr style=\"text-align: right;\">\n",
       "      <th></th>\n",
       "      <th>Coefficient</th>\n",
       "    </tr>\n",
       "  </thead>\n",
       "  <tbody>\n",
       "    <tr>\n",
       "      <th>X2</th>\n",
       "      <td>-0.291000</td>\n",
       "    </tr>\n",
       "    <tr>\n",
       "      <th>X3</th>\n",
       "      <td>-0.004164</td>\n",
       "    </tr>\n",
       "    <tr>\n",
       "      <th>X4</th>\n",
       "      <td>1.004382</td>\n",
       "    </tr>\n",
       "    <tr>\n",
       "      <th>X5</th>\n",
       "      <td>286.232766</td>\n",
       "    </tr>\n",
       "    <tr>\n",
       "      <th>X6</th>\n",
       "      <td>-22.331505</td>\n",
       "    </tr>\n",
       "  </tbody>\n",
       "</table>\n",
       "</div>"
      ],
      "text/plain": [
       "    Coefficient\n",
       "X2    -0.291000\n",
       "X3    -0.004164\n",
       "X4     1.004382\n",
       "X5   286.232766\n",
       "X6   -22.331505"
      ]
     },
     "execution_count": 37,
     "metadata": {},
     "output_type": "execute_result"
    }
   ],
   "source": [
    "coeff_df = pd.DataFrame(lm.coef_, Xb.columns, columns=['Coefficient'])  \n",
    "coeff_df"
   ]
  },
  {
   "cell_type": "markdown",
   "metadata": {},
   "source": [
    "Sehingga persamaan regresi yang kita peroleh \n",
    "\n",
    "Y= - 0.291 - 0.004 X3 + 1.004 X4 + 286.232 X5 - 22.331 X6\n",
    "\n",
    "dengan \n",
    "Y adalah harga rumah \n",
    "\n",
    "X2 adalah usia rumah\n",
    "\n",
    "X3 adalah jarak terdekat dari stasiun MRT\n",
    "\n",
    "X4 adalah banyaknya toko\n",
    "\n",
    "X5 adalah garis lintang\n",
    "\n",
    "X6 adalah garis bujur"
   ]
  },
  {
   "cell_type": "markdown",
   "metadata": {},
   "source": [
    "## Interpretasi Data:\n",
    "\n",
    "Dari model diatas dapat disimpulkan bahwa \n",
    "\n",
    "1. jika usia rumah bernilai nol/tidak ada maka akan menurunkan harga rumah sebesar 0.291 dengan asumsi variabel lain konstan/tetap.\n",
    "\n",
    "2. jika jarak terdekat naik satu satuan maka akan menurunkan harga rumah sebesar 0.004 dengan asumsi variabel lain konstan/tetap.\n",
    "\n",
    "3. jika banyaknya toko naik satu satuan maka akan menaikkan harga rumah sebesar 1.004 dengan asumsi variabel lain konstan/tetap.\n",
    "\n",
    "4. jika garis lintang naik satu satuan maka akan menaikkan harga rumah sebesar 286.232 dengan asumsi variabel lain konstan/tetap.\n",
    "\n",
    "5. jika garis bujur naik satu satuan maka akan menurunkan harga rumah sebesar 22.331 dengan asumsi variabel lain konstan/tetap.\n",
    "\n",
    "\n",
    "\n"
   ]
  },
  {
   "cell_type": "markdown",
   "metadata": {},
   "source": [
    "#### Nilai MSE,RMS dan Koefisien Determinasi\n"
   ]
  },
  {
   "cell_type": "code",
   "execution_count": 38,
   "metadata": {},
   "outputs": [],
   "source": [
    "from sklearn import metrics"
   ]
  },
  {
   "cell_type": "code",
   "execution_count": 39,
   "metadata": {},
   "outputs": [
    {
     "name": "stdout",
     "output_type": "stream",
     "text": [
      "MSE=  89.4609175381776\n",
      "RMS=  9.458378166375967\n",
      "R2_score=  0.5387062859247072\n"
     ]
    }
   ],
   "source": [
    "print('MSE= ', metrics.mean_squared_error(Yb_test,Ytopi))\n",
    "print('RMS= ', np.sqrt(metrics.mean_squared_error(Yb_test,Ytopi)))\n",
    "print('R2_score= ', metrics.r2_score(Yb_test,Ytopi))"
   ]
  },
  {
   "cell_type": "markdown",
   "metadata": {},
   "source": [
    "\n",
    "Dapat dilihat bahwa nilai MSE= 89.46 artinya bahwa besarnya kesalahan pendugaan/ramalan adalah 89.46 \n",
    "\n",
    "\n",
    "R2_score = 0.54 artinya bahwa kemampuan variabel X dapat menjelaskan variabel Ynya adalah 0.54 dan sisanya yakni 0.46 dijelaskan oleh variabel lainnya.\n"
   ]
  },
  {
   "cell_type": "code",
   "execution_count": null,
   "metadata": {},
   "outputs": [],
   "source": []
  }
 ],
 "metadata": {
  "kernelspec": {
   "display_name": "Python 3",
   "language": "python",
   "name": "python3"
  },
  "language_info": {
   "codemirror_mode": {
    "name": "ipython",
    "version": 3
   },
   "file_extension": ".py",
   "mimetype": "text/x-python",
   "name": "python",
   "nbconvert_exporter": "python",
   "pygments_lexer": "ipython3",
   "version": "3.6.9"
  }
 },
 "nbformat": 4,
 "nbformat_minor": 2
}
